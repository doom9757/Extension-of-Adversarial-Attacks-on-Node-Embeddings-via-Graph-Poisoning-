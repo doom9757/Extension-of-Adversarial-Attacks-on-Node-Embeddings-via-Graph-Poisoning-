{
 "cells": [
  {
   "cell_type": "code",
   "execution_count": 1,
   "metadata": {
    "scrolled": true
   },
   "outputs": [],
   "source": [
    "import numpy as np\n",
    "from scipy.linalg import eigh\n",
    "from node_embedding_attack.utils import *\n",
    "from node_embedding_attack.embedding import *\n",
    "from node_embedding_attack.perturbation_attack import *"
   ]
  },
  {
   "cell_type": "markdown",
   "metadata": {},
   "source": [
    "### Load and preprocess the data"
   ]
  },
  {
   "cell_type": "code",
   "execution_count": 2,
   "metadata": {},
   "outputs": [],
   "source": [
    "graph = load_dataset('data/cora.npz')\n",
    "adj_matrix = graph['adj_matrix']\n",
    "labels = graph['labels']\n",
    "\n",
    "adj_matrix, labels = standardize(adj_matrix, labels)\n",
    "n_nodes = adj_matrix.shape[0]"
   ]
  },
  {
   "cell_type": "markdown",
   "metadata": {},
   "source": [
    "### Set hyperparameters"
   ]
  },
  {
   "cell_type": "code",
   "execution_count": 3,
   "metadata": {},
   "outputs": [],
   "source": [
    "n_flips = 1000\n",
    "dim = 32\n",
    "window_size = 5"
   ]
  },
  {
   "cell_type": "markdown",
   "metadata": {},
   "source": [
    "### Generate candidate edge flips"
   ]
  },
  {
   "cell_type": "code",
   "execution_count": 4,
   "metadata": {},
   "outputs": [],
   "source": [
    "candidates = generate_candidates_removal(adj_matrix=adj_matrix)"
   ]
  },
  {
   "cell_type": "markdown",
   "metadata": {},
   "source": [
    "### Compute simple baselines"
   ]
  },
  {
   "cell_type": "code",
   "execution_count": 5,
   "metadata": {},
   "outputs": [],
   "source": [
    "b_eig_flips = baseline_eigencentrality_top_flips(adj_matrix, candidates, n_flips)\n",
    "b_deg_flips = baseline_degree_top_flips(adj_matrix, candidates, n_flips, True)\n",
    "b_rnd_flips = baseline_random_top_flips(candidates, n_flips, 0)"
   ]
  },
  {
   "cell_type": "markdown",
   "metadata": {},
   "source": [
    "### Compute adversarial flips using eigenvalue perturbation"
   ]
  },
  {
   "cell_type": "code",
   "execution_count": 6,
   "metadata": {},
   "outputs": [],
   "source": [
    "our_flips = perturbation_top_flips(adj_matrix, candidates, n_flips, dim, window_size)"
   ]
  },
  {
   "cell_type": "markdown",
   "metadata": {},
   "source": [
    "### Evaluate classification performance using the skipgram objective"
   ]
  },
  {
   "cell_type": "code",
   "execution_count": 7,
   "metadata": {},
   "outputs": [
    {
     "name": "stdout",
     "output_type": "stream",
     "text": [
      "cln, F1: 0.80 0.77\n",
      "rnd, F1: 0.80 0.76\n",
      "deg, F1: 0.77 0.73\n",
      "eig, F1: 0.76 0.73\n",
      "our, F1: 0.73 0.69\n"
     ]
    }
   ],
   "source": [
    "for flips, name in zip([None, b_rnd_flips, b_deg_flips, b_eig_flips, our_flips],\n",
    "                             ['cln', 'rnd', 'deg', 'eig', 'our']):\n",
    "    \n",
    "    if flips is not None:\n",
    "        adj_matrix_flipped = flip_candidates(adj_matrix, flips)\n",
    "    else:\n",
    "        adj_matrix_flipped = adj_matrix\n",
    "        \n",
    "    embedding = deepwalk_skipgram(adj_matrix_flipped, dim, window_size=window_size)\n",
    "    f1_scores_mean, _ = evaluate_embedding_node_classification(embedding, labels)\n",
    "    print('{}, F1: {:.2f} {:.2f}'.format(name, f1_scores_mean[0], f1_scores_mean[1]))"
   ]
  },
  {
   "cell_type": "markdown",
   "metadata": {},
   "source": [
    "### Evaluate classification performance using the SVD objective"
   ]
  },
  {
   "cell_type": "code",
   "execution_count": 8,
   "metadata": {},
   "outputs": [
    {
     "name": "stdout",
     "output_type": "stream",
     "text": [
      "cln, F1: 0.82 0.80\n",
      "rnd, F1: 0.81 0.79\n",
      "deg, F1: 0.79 0.76\n",
      "eig, F1: 0.80 0.78\n",
      "our, F1: 0.76 0.74\n"
     ]
    }
   ],
   "source": [
    "for flips, name in zip([None, b_rnd_flips, b_deg_flips, b_eig_flips, our_flips],\n",
    "                             ['cln', 'rnd', 'deg', 'eig', 'our']):\n",
    "    \n",
    "    if flips is not None:\n",
    "        adj_matrix_flipped = flip_candidates(adj_matrix, flips)\n",
    "    else:\n",
    "        adj_matrix_flipped = adj_matrix\n",
    "        \n",
    "    embedding, _, _, _ = deepwalk_svd(adj_matrix_flipped, window_size, dim)\n",
    "    f1_scores_mean, _ = evaluate_embedding_node_classification(embedding, labels)\n",
    "    print('{}, F1: {:.2f} {:.2f}'.format(name, f1_scores_mean[0], f1_scores_mean[1]))"
   ]
  }
 ],
 "metadata": {
  "kernelspec": {
   "display_name": "Python 3",
   "language": "python",
   "name": "python3"
  },
  "language_info": {
   "codemirror_mode": {
    "name": "ipython",
    "version": 3
   },
   "file_extension": ".py",
   "mimetype": "text/x-python",
   "name": "python",
   "nbconvert_exporter": "python",
   "pygments_lexer": "ipython3",
   "version": "3.7.5"
  }
 },
 "nbformat": 4,
 "nbformat_minor": 2
}
